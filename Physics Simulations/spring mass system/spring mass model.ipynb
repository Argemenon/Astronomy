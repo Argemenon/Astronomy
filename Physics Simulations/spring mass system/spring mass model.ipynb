{
 "cells": [
  {
   "cell_type": "code",
   "execution_count": 1,
   "metadata": {},
   "outputs": [],
   "source": [
    "from sympy import *\n",
    "from sympy.physics.mechanics import *\n",
    "init_vprinting()"
   ]
  },
  {
   "cell_type": "markdown",
   "metadata": {},
   "source": [
    "$T = \\frac{1}{2}m \\dot{x}^2 ~~~~~~~~~~~~~ V = -mgx + \\frac{1}{2}kx^2$\n",
    "\n",
    "$L = T - V ~~~~~~~~~~ \\dfrac{d}{dt} \\bigg( \\dfrac{\\partial L}{\\partial \\dot \\theta} \\bigg) - \\dfrac{\\partial L}{\\partial \\theta} = 0$"
   ]
  },
  {
   "cell_type": "code",
   "execution_count": 6,
   "metadata": {},
   "outputs": [
    {
     "data": {
      "image/png": "[encoded data removed]",
      "text/latex": [
       "$\\displaystyle \\ddot{x} = g - \\frac{k x}{m}$"
      ],
      "text/plain": [
       "        k⋅x\n",
       "ẍ = g - ───\n",
       "         m "
      ]
     },
     "execution_count": 6,
     "metadata": {},
     "output_type": "execute_result"
    }
   ],
   "source": [
    "# define symbols\n",
    "\n",
    "m, g, k, t = symbols('m g k t')\n",
    "x = dynamicsymbols('x')\n",
    "\n",
    "# take derivatives\n",
    "x_dot = diff(x, t)\n",
    "x_ddot = diff(x_dot, t)\n",
    "\n",
    "T = 1/2*m*x_dot**2\n",
    "V = -m*g*x + 1/2*k*x**2\n",
    "L = T - V\n",
    "\n",
    "# solve Euler-Lagrange equation\n",
    "\n",
    "eqn = diff(diff(L, x_dot), t) - diff(L, x)\n",
    "sln = solve(eqn, x_ddot)[0]\n",
    "Eq(x_ddot, sln)"
   ]
  }
 ],
 "metadata": {
  "kernelspec": {
   "display_name": "Simulation",
   "language": "python",
   "name": "python3"
  },
  "language_info": {
   "codemirror_mode": {
    "name": "ipython",
    "version": 3
   },
   "file_extension": ".py",
   "mimetype": "text/x-python",
   "name": "python",
   "nbconvert_exporter": "python",
   "pygments_lexer": "ipython3",
   "version": "3.12.9"
  }
 },
 "nbformat": 4,
 "nbformat_minor": 2
}
